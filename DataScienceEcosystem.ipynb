{
 "cells": [
  {
   "cell_type": "markdown",
   "id": "8095d3aa-deae-46a6-b1c6-020870a52a05",
   "metadata": {},
   "source": [
    "# Data Science Tools and Ecosystem"
   ]
  },
  {
   "cell_type": "markdown",
   "id": "0ab21218-6668-46fd-81c0-b397e4230203",
   "metadata": {},
   "source": [
    "In this notebook, Data Science Tools and Ecosystem are summarized"
   ]
  },
  {
   "cell_type": "markdown",
   "id": "078ef637-3bb6-4275-8f5f-e36a78444386",
   "metadata": {},
   "source": [
    "**Objectives:**\n",
    "\n",
    "- List popular languages for Data Science\n",
    "- Describe the role of data visualization in Data Science\n",
    "- Explain the importance of statistical analysis\n",
    "- Outline the process of data cleaning and preparation\n",
    "- Discuss various machine learning methodologies"
   ]
  },
  {
   "cell_type": "markdown",
   "id": "04f384bb-2d26-4dfc-a305-3a70d0e2e46d",
   "metadata": {},
   "source": [
    "Some of the popular languages that Data Scientists use are:\n",
    "1. Python\n",
    "2. R\n",
    "3. SQL"
   ]
  },
  {
   "cell_type": "markdown",
   "id": "613b8bcd-9865-4a8a-868d-e70b603792c9",
   "metadata": {},
   "source": [
    "Some of the commonly used libraries used by Data Scientists include:\n",
    "1. pandas\n",
    "2. numpy\n",
    "3. matplotlib.pyplot"
   ]
  },
  {
   "cell_type": "markdown",
   "id": "c474d1ef-a22b-4abd-a560-2def1f0917da",
   "metadata": {},
   "source": [
    "| Data Science Tools |\n",
    "|--------------------|\n",
    "| Jupyter Notebook   |\n",
    "| RStudio            |\n",
    "| VS Code            |\n"
   ]
  },
  {
   "cell_type": "markdown",
   "id": "fa59493d-a0aa-4e8f-8b56-16dbcb15af29",
   "metadata": {},
   "source": [
    "### Below are a few examples of evaluating arithmetic expressions in Python"
   ]
  },
  {
   "cell_type": "code",
   "execution_count": 7,
   "id": "f4003d82-8f3d-4a1e-bc0f-026803076adf",
   "metadata": {},
   "outputs": [
    {
     "data": {
      "text/plain": [
       "17"
      ]
     },
     "execution_count": 7,
     "metadata": {},
     "output_type": "execute_result"
    }
   ],
   "source": [
    "# This a simple arithmetic expression to multiply then add integers\n",
    "(3*4)+5"
   ]
  },
  {
   "cell_type": "code",
   "execution_count": 10,
   "id": "3c5c4af8-aad4-42cc-8be5-fd882e74163b",
   "metadata": {},
   "outputs": [
    {
     "data": {
      "text/plain": [
       "3.3333333333333335"
      ]
     },
     "execution_count": 10,
     "metadata": {},
     "output_type": "execute_result"
    }
   ],
   "source": [
    "# This will convert 200 minutes to hours by diving by 60\n",
    "200/60"
   ]
  },
  {
   "cell_type": "markdown",
   "id": "4720fbc2-d5c7-43bc-b523-fd4799e7ca40",
   "metadata": {},
   "source": [
    "## Author\n",
    "Blake"
   ]
  },
  {
   "cell_type": "code",
   "execution_count": null,
   "id": "2fd859ab-e4f9-477c-adf2-78e095e92551",
   "metadata": {},
   "outputs": [],
   "source": []
  }
 ],
 "metadata": {
  "kernelspec": {
   "display_name": "Python 3 (ipykernel)",
   "language": "python",
   "name": "python3"
  },
  "language_info": {
   "codemirror_mode": {
    "name": "ipython",
    "version": 3
   },
   "file_extension": ".py",
   "mimetype": "text/x-python",
   "name": "python",
   "nbconvert_exporter": "python",
   "pygments_lexer": "ipython3",
   "version": "3.12.0"
  }
 },
 "nbformat": 4,
 "nbformat_minor": 5
}
